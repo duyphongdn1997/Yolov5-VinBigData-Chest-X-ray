{
  "nbformat": 4,
  "nbformat_minor": 0,
  "metadata": {
    "colab": {
      "name": "VinBigData Chest X-ray Abnormalities Detection_yolo_label",
      "provenance": [],
      "collapsed_sections": [],
      "toc_visible": true
    },
    "kernelspec": {
      "name": "python3",
      "display_name": "Python 3"
    },
    "language_info": {
      "name": "python"
    }
  },
  "cells": [
    {
      "cell_type": "markdown",
      "metadata": {
        "id": "8wKoYu3O3gcN"
      },
      "source": [
        "### 0. Unnecessary thing\n"
      ]
    },
    {
      "cell_type": "code",
      "metadata": {
        "id": "jH8Dt2lnz9aV"
      },
      "source": [
        "!sudo rm -r -f '/content/drive/MyDrive/VinBigData Chest X-ray Abnormalities Detetion/test512'\n",
        "!sudo rm -r -f '/content/drive/MyDrive/VinBigData Chest X-ray Abnormalities Detetion/train512'\n",
        "!sudo rm -r -f '/content/drive/MyDrive/VinBigData Chest X-ray Abnormalities Detetion/train512_vbd_train_data'\n",
        "!sudo rm -r -f '/content/drive/MyDrive/VinBigData Chest X-ray Abnormalities Detetion/train512_to_train'"
      ],
      "execution_count": null,
      "outputs": []
    },
    {
      "cell_type": "code",
      "metadata": {
        "id": "5EsPdygy1ZQj"
      },
      "source": [
        "!unzip '/content/drive/MyDrive/archive.zip' -d '/content/drive/MyDrive/VinBigData Chest X-ray Abnormalities Detetion 2'"
      ],
      "execution_count": null,
      "outputs": []
    },
    {
      "cell_type": "code",
      "metadata": {
        "id": "XC9tJU5u49TE"
      },
      "source": [
        "!ls '/content/drive/MyDrive/VinBigData Chest X-ray Abnormalities Detetion/test512'"
      ],
      "execution_count": null,
      "outputs": []
    },
    {
      "cell_type": "markdown",
      "metadata": {
        "id": "n-hgCTMr6Jyd"
      },
      "source": [
        "### 1. Import library and read file csv"
      ]
    },
    {
      "cell_type": "code",
      "metadata": {
        "id": "tRi-eYJG7lhX"
      },
      "source": [
        "import numpy as np\n",
        "import pandas as pd\n",
        "import cv2\n",
        "from ast import literal_eval\n",
        "import cv2\n",
        "import matplotlib.pyplot as plt\n",
        "\n",
        "import glob\n",
        "\n",
        "train_df = pd.read_csv(\"/content/drive/MyDrive/VinBigData Chest X-ray Abnormalities Detetion 2/train.csv\")\n",
        "train_df.columns =['image_id','x_min', 'y_min',\t'x_max', 'y_max','class_id']\n",
        "\n",
        "train_df.head()"
      ],
      "execution_count": null,
      "outputs": []
    },
    {
      "cell_type": "code",
      "metadata": {
        "id": "dWtYklwXx3WT"
      },
      "source": [
        "val_df = pd.read_csv(\"/content/drive/MyDrive/VinBigData Chest X-ray Abnormalities Detetion 2/val.csv\")\n",
        "val_df.columns =['image_id','x_min', 'y_min',\t'x_max', 'y_max','class_id']\n",
        "\n",
        "val_df.head()"
      ],
      "execution_count": null,
      "outputs": []
    },
    {
      "cell_type": "code",
      "metadata": {
        "id": "pcDQ42sp85R9"
      },
      "source": [
        "train_df['x_mid'] = train_df.apply(lambda row: (row.x_max+row.x_min)/2, axis =1)\n",
        "train_df['y_mid'] = train_df.apply(lambda row: (row.y_max+row.y_min)/2, axis =1)\n",
        "\n",
        "train_df['w'] = train_df.apply(lambda row: (row.x_max-row.x_min), axis =1)\n",
        "train_df['h'] = train_df.apply(lambda row: (row.y_max-row.y_min), axis =1)\n",
        "train_df.head()"
      ],
      "execution_count": null,
      "outputs": []
    },
    {
      "cell_type": "code",
      "metadata": {
        "id": "PKB83Xxx4Num"
      },
      "source": [
        "val_df['x_mid'] = val_df.apply(lambda row: (row.x_max+row.x_min)/2, axis =1)\n",
        "val_df['y_mid'] = val_df.apply(lambda row: (row.y_max+row.y_min)/2, axis =1)\n",
        "\n",
        "val_df['w'] = val_df.apply(lambda row: (row.x_max-row.x_min), axis =1)\n",
        "val_df['h'] = val_df.apply(lambda row: (row.y_max-row.y_min), axis =1)\n",
        "val_df.head()"
      ],
      "execution_count": null,
      "outputs": []
    },
    {
      "cell_type": "code",
      "metadata": {
        "id": "SOkQqAkO8HpF"
      },
      "source": [
        "fr = cv2.imread(\"/content/drive/MyDrive/VinBigData Chest X-ray Abnormalities Detetion 2/train512/051132a778e61a86eb147c7c6f564dfe.png\")\n",
        "frame_rgb = cv2.cvtColor(fr, cv2.COLOR_BGR2RGB)\n",
        "frame_rgb = cv2.rectangle(frame_rgb, (324, 160), (324 + 69, 160 + 60), (255, 0, 0), 5)\n",
        "cv2.putText(frame_rgb, 'Aortic enlargement', (324, 160 - 10), cv2.FONT_HERSHEY_SIMPLEX, 0.65, (255, 0, 0), 2)\n",
        "plt.imshow(frame_rgb)"
      ],
      "execution_count": null,
      "outputs": []
    },
    {
      "cell_type": "markdown",
      "metadata": {
        "id": "NrYQW2mP6Shr"
      },
      "source": [
        "### 2. Convert data"
      ]
    },
    {
      "cell_type": "code",
      "metadata": {
        "id": "r3YaVzCXBYue"
      },
      "source": [
        "train_df['x_min'] = train_df.apply(lambda row: row.x_min/512, axis =1)\n",
        "train_df['y_min'] = train_df.apply(lambda row: row.y_min/512, axis =1)\n",
        "\n",
        "train_df['x_max'] = train_df.apply(lambda row: row.x_max/512, axis =1)\n",
        "train_df['y_max'] = train_df.apply(lambda row: row.y_max/512, axis =1)\n",
        "\n",
        "train_df['x_mid'] = train_df.apply(lambda row: (row.x_max+row.x_min)/2, axis =1)\n",
        "train_df['y_mid'] = train_df.apply(lambda row: (row.y_max+row.y_min)/2, axis =1)\n",
        "\n",
        "train_df['w'] = train_df.apply(lambda row: (row.x_max-row.x_min), axis =1)\n",
        "train_df['h'] = train_df.apply(lambda row: (row.y_max-row.y_min), axis =1)\n",
        "\n",
        "train_df['area'] = train_df['w']*train_df['h']\n",
        "train_df.head()"
      ],
      "execution_count": null,
      "outputs": []
    },
    {
      "cell_type": "code",
      "metadata": {
        "id": "-omSmmJNx63e"
      },
      "source": [
        "val_df['x_min'] = val_df.apply(lambda row: row.x_min/512, axis =1)\n",
        "val_df['y_min'] = val_df.apply(lambda row: row.y_min/512, axis =1)\n",
        "\n",
        "val_df['x_max'] = val_df.apply(lambda row: row.x_max/512, axis =1)\n",
        "val_df['y_max'] = val_df.apply(lambda row: row.y_max/512, axis =1)\n",
        "\n",
        "val_df['x_mid'] = val_df.apply(lambda row: (row.x_max+row.x_min)/2, axis =1)\n",
        "val_df['y_mid'] = val_df.apply(lambda row: (row.y_max+row.y_min)/2, axis =1)\n",
        "\n",
        "val_df['w'] = val_df.apply(lambda row: (row.x_max-row.x_min), axis =1)\n",
        "val_df['h'] = val_df.apply(lambda row: (row.y_max-row.y_min), axis =1)\n",
        "\n",
        "val_df['area'] = val_df['w']*train_df['h']\n",
        "val_df.head()"
      ],
      "execution_count": null,
      "outputs": []
    },
    {
      "cell_type": "markdown",
      "metadata": {
        "id": "9i9uc0r_6EKs"
      },
      "source": [
        "### 3. Check BBox"
      ]
    },
    {
      "cell_type": "code",
      "metadata": {
        "colab": {
          "base_uri": "https://localhost:8080/"
        },
        "id": "XsEP9vkyrMAz",
        "outputId": "418427f8-f744-4e4f-c37a-052721233705"
      },
      "source": [
        "def convertYoloToPascal(size, coord):\n",
        "    x_max = int(((2*size[0]*float(coord[0]))+(size[0]*float(coord[2])))/2)\n",
        "    x_min = int(((2*size[0]*float(coord[0]))-(size[0]*float(coord[2])))/2)\n",
        "\n",
        "    y_max = int(((2*size[1]*float(coord[1]))+(size[1]*float(coord[3])))/2)\n",
        "    y_min = int(((2*size[1]*float(coord[1]))-(size[1]*float(coord[3])))/2)\n",
        "    return (x_min,y_min,x_max,y_max)\n",
        "\n",
        "convertYoloToPascal((512, 512), [0.633789, 0.312500, 0.134766, 0.117188])"
      ],
      "execution_count": null,
      "outputs": [
        {
          "output_type": "execute_result",
          "data": {
            "text/plain": [
              "(289, 129, 359, 190)"
            ]
          },
          "metadata": {
            "tags": []
          },
          "execution_count": 5
        }
      ]
    },
    {
      "cell_type": "code",
      "metadata": {
        "colab": {
          "base_uri": "https://localhost:8080/"
        },
        "id": "Ge9qzFH1_JJV",
        "outputId": "d105eb38-25ee-4448-e664-419669487031"
      },
      "source": [
        "def midPoint(x_min, y_min, x_max, y_max):\n",
        "    x_mid = (x_max + x_min)//2\n",
        "    y_mid = (y_max + y_min)//2\n",
        "    w = (x_max - x_min)\n",
        "    h = (y_max - y_min)\n",
        "    return (x_mid, y_mid, w, h)\n",
        "\n",
        "midPoint(289, 129, 359, 190)"
      ],
      "execution_count": null,
      "outputs": [
        {
          "output_type": "execute_result",
          "data": {
            "text/plain": [
              "(324, 159, 70, 61)"
            ]
          },
          "metadata": {
            "tags": []
          },
          "execution_count": 6
        }
      ]
    },
    {
      "cell_type": "code",
      "metadata": {
        "id": "Rhqr1xVdrdY0"
      },
      "source": [
        "fr = cv2.imread(\"/content/drive/MyDrive/VinBigData Chest X-ray Abnormalities Detetion/train512/051132a778e61a86eb147c7c6f564dfe.png\")\n",
        "frame_rgb = cv2.cvtColor(fr, cv2.COLOR_BGR2RGB)\n",
        "frame_rgb = cv2.rectangle(frame_rgb, (324, 159), (324 + 70, 159 + 61), (255, 0, 0), 5)\n",
        "cv2.putText(frame_rgb, 'Aortic enlargement', (324, 160 - 10), cv2.FONT_HERSHEY_SIMPLEX, 0.65, (255, 0, 0), 2)\n",
        "plt.imshow(frame_rgb)"
      ],
      "execution_count": null,
      "outputs": []
    },
    {
      "cell_type": "markdown",
      "metadata": {
        "id": "3vfPd1gA6ems"
      },
      "source": [
        "### 4. Make file txt yolo label"
      ]
    },
    {
      "cell_type": "code",
      "metadata": {
        "id": "Cil0LqUHkbtj"
      },
      "source": [
        "classes_df = pd.read_csv(\"/content/drive/MyDrive/VinBigData Chest X-ray Abnormalities Detetion 2/classes.csv\", names = [\"classes\", \"Id\"])\n",
        "classes_df.head()\n",
        "classes_dict = dict()\n",
        "for i in range(len(classes_df)):\n",
        "  classes_dict[classes_df[\"classes\"][i]]= classes_df[\"Id\"][i]\n",
        "print(classes_dict)"
      ],
      "execution_count": null,
      "outputs": []
    },
    {
      "cell_type": "code",
      "metadata": {
        "id": "t8RBsSxdI829"
      },
      "source": [
        "import os.path\n",
        "from os import path\n",
        "from pathlib import Path\n",
        "train_df['yolo_box'] = train_df[['x_min', 'y_min', 'w', 'h']].values.tolist()\n",
        "\n",
        "print(\"We have {} unique images with boxes.\".format(len(train_df.image_id.unique())))\n",
        "unique_img_ids = train_df.image_id.unique()\n",
        "\n",
        "folder_location = \"/content/drive/MyDrive/VinBigData Chest X-ray Abnormalities Detetion 2/train512_vbd_train_data\"\n",
        "\n",
        "Path(folder_location).mkdir(parents=True, exist_ok=True)\n",
        "Path(folder_location+\"/train512\").mkdir(parents=True, exist_ok=True)\n",
        "Path(\"/content/drive/MyDrive/VinBigData Chest X-ray Abnormalities Detetion 2/train512_to_train\").mkdir(parents=True, exist_ok=True)\n",
        "\n",
        "for img_id in unique_img_ids: # loop through all unique image ids. Remove the slice to do all images\n",
        "    filt_df = train_df.query(\"image_id == @img_id\") # filter the df to a specific id\n",
        "    #all_boxes = filt_df.yolo_box.value\n",
        "    #print(img_id)\n",
        "    file_img_name = \"/content/drive/MyDrive/VinBigData Chest X-ray Abnormalities Detetion 2/{}\".format(img_id)\n",
        "    file_name = \"{}/{}.txt\".format(folder_location,img_id.split('.')[0]) # specify the name of the folder and get a file name\n",
        "    print(file_name)\n",
        "    try:\n",
        "      Path(file_img_name).rename(\"/content/drive/MyDrive/VinBigData Chest X-ray Abnormalities Detetion 2/train512_to_train/{}\".format(img_id.split('/')[1]))\n",
        "    except:\n",
        "      print(\"File has been moved!\")\n",
        "    with open(file_name, 'w+') as file: # append lines to file\n",
        "        for i in filt_df.iterrows():\n",
        "            class_name = i[1].class_id # get name of class\n",
        "            class_id = classes_dict[class_name] # get Id of class\n",
        "            s = f\"{class_id} %s %s %s %s \\n\" # The first number is the class name\n",
        "            new_line = (s % tuple(i[1].yolo_box))\n",
        "            file.write(new_line)"
      ],
      "execution_count": null,
      "outputs": []
    },
    {
      "cell_type": "code",
      "metadata": {
        "id": "1GMdjvVDyHwb"
      },
      "source": [
        "val_df['yolo_box'] = val_df[['x_min', 'y_min', 'w', 'h']].values.tolist()\n",
        "\n",
        "print(\"We have {} unique images with boxes.\".format(len(val_df.image_id.unique())))\n",
        "unique_img_ids = val_df.image_id.unique()\n",
        "\n",
        "folder_location = \"/content/drive/MyDrive/VinBigData Chest X-ray Abnormalities Detetion 2/val512_vbd_val_data\"\n",
        "\n",
        "Path(folder_location).mkdir(parents=True, exist_ok=True)\n",
        "Path(\"/content/drive/MyDrive/VinBigData Chest X-ray Abnormalities Detetion 2/val512\").mkdir(parents=True, exist_ok=True)\n",
        "\n",
        "for img_id in unique_img_ids: # loop through all unique image ids. Remove the slice to do all images\n",
        "    filt_df = train_df.query(\"image_id == @img_id\") # filter the df to a specific id\n",
        "    #all_boxes = filt_df.yolo_box.value\n",
        "    #print(img_id)\n",
        "    file_img_name = \"/content/drive/MyDrive/VinBigData Chest X-ray Abnormalities Detetion 2/{}\".format(img_id)\n",
        "    file_name = \"{}/{}.txt\".format(folder_location,img_id.split('.')[0]) # specify the name of the folder and get a file name\n",
        "    print(file_img_name)\n",
        "    print(file_name)\n",
        "\n",
        "    try:\n",
        "      Path(file_img_name).rename(\"/content/drive/MyDrive/VinBigData Chest X-ray Abnormalities Detetion 2/val512/{}\".format(img_id.split('/')[1]))\n",
        "    except:\n",
        "      print(\"File has been moved!\")\n",
        "    with open(file_name, 'w+') as file: # append lines to file\n",
        "        for i in filt_df.iterrows():\n",
        "            class_name = i[1].class_id # get name of class\n",
        "            class_id = classes_dict[class_name] # get Id of class\n",
        "            s = f\"{class_id} %s %s %s %s \\n\" # The first number is the class name\n",
        "            new_line = (s % tuple(i[1].yolo_box))\n",
        "            file.write(new_line)"
      ],
      "execution_count": null,
      "outputs": []
    },
    {
      "cell_type": "code",
      "metadata": {
        "id": "rhgPAOafynrA"
      },
      "source": [
        "!ls '/content/drive/MyDrive/VinBigData Chest X-ray Abnormalities Detetion 2/train512'"
      ],
      "execution_count": null,
      "outputs": []
    },
    {
      "cell_type": "code",
      "metadata": {
        "colab": {
          "base_uri": "https://localhost:8080/"
        },
        "id": "0pnpBiwJzglJ",
        "outputId": "e22b724e-d558-4145-a3f7-77adde4cca4f"
      },
      "source": [
        "import os.path\n",
        "path = \"/content/drive/MyDrive/VinBigData Chest X-ray Abnormalities Detetion 2/val512\"\n",
        "num_files = len([f for f in os.listdir(path)if os.path.isfile(os.path.join(path, f))])\n",
        "print(num_files)"
      ],
      "execution_count": null,
      "outputs": [
        {
          "output_type": "stream",
          "text": [
            "879\n"
          ],
          "name": "stdout"
        }
      ]
    },
    {
      "cell_type": "code",
      "metadata": {
        "colab": {
          "base_uri": "https://localhost:8080/"
        },
        "id": "sEqqrVd51KNJ",
        "outputId": "e1c8798e-5561-4e7c-e7df-d7b25f5ee77a"
      },
      "source": [
        "import os.path\n",
        "path = \"/content/drive/MyDrive/VinBigData Chest X-ray Abnormalities Detetion 2/train512\"\n",
        "num_files = len([f for f in os.listdir(path)if os.path.isfile(os.path.join(path, f))])\n",
        "print(num_files)"
      ],
      "execution_count": null,
      "outputs": [
        {
          "output_type": "stream",
          "text": [
            "10606\n"
          ],
          "name": "stdout"
        }
      ]
    },
    {
      "cell_type": "code",
      "metadata": {
        "colab": {
          "base_uri": "https://localhost:8080/"
        },
        "id": "V_yeCVFl1Qj8",
        "outputId": "2e2d6976-9abe-4237-a84d-9bed7c1c09ce"
      },
      "source": [
        "import os.path\n",
        "path = \"/content/drive/MyDrive/VinBigData Chest X-ray Abnormalities Detetion 2/train512_to_train\"\n",
        "num_files = len([f for f in os.listdir(path)if os.path.isfile(os.path.join(path, f))])\n",
        "print(num_files)"
      ],
      "execution_count": null,
      "outputs": [
        {
          "output_type": "stream",
          "text": [
            "3515\n"
          ],
          "name": "stdout"
        }
      ]
    },
    {
      "cell_type": "markdown",
      "metadata": {
        "id": "OAaRLiS66qM0"
      },
      "source": [
        "### 5. Zip the label\n",
        "\n"
      ]
    },
    {
      "cell_type": "code",
      "metadata": {
        "id": "7w9vtEDaJAgc"
      },
      "source": [
        "# zip to make files easier to download\n",
        "\n",
        "!zip -r yolo_labels_train.zip \"/content/drive/MyDrive/VinBigData Chest X-ray Abnormalities Detetion 2/train512_vbd_train_data/train512\"\n",
        "!zip -r yolo_labels_val.zip \"/content/drive/MyDrive/VinBigData Chest X-ray Abnormalities Detetion 2/val512_vbd_val_data/train512\""
      ],
      "execution_count": null,
      "outputs": []
    },
    {
      "cell_type": "code",
      "metadata": {
        "id": "yL_cFTYi32gJ"
      },
      "source": [
        "\n",
        "\n",
        "!zip -r img_train.zip \"/content/drive/MyDrive/VinBigData Chest X-ray Abnormalities Detetion 2/train512_to_train\"\n",
        "!zip -r img_val.zip \"/content/drive/MyDrive/VinBigData Chest X-ray Abnormalities Detetion 2/val512\""
      ],
      "execution_count": null,
      "outputs": []
    },
    {
      "cell_type": "code",
      "metadata": {
        "id": "-cLOc8vM4cLg"
      },
      "source": [
        "# !mv '/content/img_train.zip' '/content/drive/MyDrive/'\n",
        "%mv '/content/img_val.zip' '/content/drive/MyDrive/img_val.zip'\n",
        "%mv '/content/yolo_labels_train.zip' '/content/drive/MyDrive/yolo_labels_train.zip'\n",
        "%mv '/content/yolo_labels_val.zip' '/content/drive/MyDrive/yolo_labels_val.zip'"
      ],
      "execution_count": null,
      "outputs": []
    }
  ]
}